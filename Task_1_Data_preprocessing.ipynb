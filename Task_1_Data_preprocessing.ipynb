{
  "nbformat": 4,
  "nbformat_minor": 0,
  "metadata": {
    "colab": {
      "provenance": [],
      "authorship_tag": "ABX9TyO+LGd2rNXGD+Oy+n/rqqMn",
      "include_colab_link": true
    },
    "kernelspec": {
      "name": "python3",
      "display_name": "Python 3"
    },
    "language_info": {
      "name": "python"
    }
  },
  "cells": [
    {
      "cell_type": "markdown",
      "metadata": {
        "id": "view-in-github",
        "colab_type": "text"
      },
      "source": [
        "<a href=\"https://colab.research.google.com/github/Owais981/ANN_SEMESTOR_PRO/blob/main/Task_1_Data_preprocessing.ipynb\" target=\"_parent\"><img src=\"https://colab.research.google.com/assets/colab-badge.svg\" alt=\"Open In Colab\"/></a>"
      ]
    },
    {
      "cell_type": "markdown",
      "source": [
        " **Task 1: Data Preprocessing for Machine Learning**"
      ],
      "metadata": {
        "id": "uOcIbOgKe1WI"
      }
    },
    {
      "cell_type": "markdown",
      "source": [
        "**Import Required Libraries**"
      ],
      "metadata": {
        "id": "Ym7GlJprfSmw"
      }
    },
    {
      "cell_type": "code",
      "execution_count": null,
      "metadata": {
        "id": "GmjelJ3_UMhJ"
      },
      "outputs": [],
      "source": [
        "import pandas as pd\n",
        "import numpy as np\n",
        "from sklearn.model_selection import train_test_split\n",
        "from sklearn.preprocessing import StandardScaler, OneHotEncoder, LabelEncoder\n",
        "from sklearn.compose import ColumnTransformer\n",
        "from sklearn.pipeline import Pipeline"
      ]
    },
    {
      "cell_type": "markdown",
      "source": [
        "**Load Dataset**"
      ],
      "metadata": {
        "id": "zFpxaTDQfYmv"
      }
    },
    {
      "cell_type": "code",
      "source": [
        "url = \"/content/Financials (1).csv\"\n",
        "df = pd.read_csv(url)\n"
      ],
      "metadata": {
        "id": "7ePeLfgVUjfn"
      },
      "execution_count": null,
      "outputs": []
    },
    {
      "cell_type": "markdown",
      "source": [
        "**isplay Initial Data Info**"
      ],
      "metadata": {
        "id": "dWIRpA72fiO1"
      }
    },
    {
      "cell_type": "code",
      "source": [
        "print(\"Initial Data Info:\")\n",
        "print(df.info())\n",
        "print(\"\\nMissing Values:\\n\", df.isnull().sum())"
      ],
      "metadata": {
        "colab": {
          "base_uri": "https://localhost:8080/"
        },
        "id": "YuiMBd19WPzE",
        "outputId": "5da8e275-1655-4849-f383-a2b44bed76be"
      },
      "execution_count": null,
      "outputs": [
        {
          "output_type": "stream",
          "name": "stdout",
          "text": [
            "Initial Data Info:\n",
            "<class 'pandas.core.frame.DataFrame'>\n",
            "RangeIndex: 700 entries, 0 to 699\n",
            "Data columns (total 16 columns):\n",
            " #   Column                 Non-Null Count  Dtype \n",
            "---  ------                 --------------  ----- \n",
            " 0   Segment                700 non-null    object\n",
            " 1   Country                700 non-null    object\n",
            " 2    Product               700 non-null    object\n",
            " 3    Discount Band         700 non-null    object\n",
            " 4    Units Sold            700 non-null    object\n",
            " 5    Manufacturing Price   700 non-null    object\n",
            " 6    Sale Price            700 non-null    object\n",
            " 7    Gross Sales           700 non-null    object\n",
            " 8    Discounts             700 non-null    object\n",
            " 9     Sales                700 non-null    object\n",
            " 10   COGS                  700 non-null    object\n",
            " 11   Profit                700 non-null    object\n",
            " 12  Date                   700 non-null    object\n",
            " 13  Month Number           700 non-null    int64 \n",
            " 14   Month Name            700 non-null    object\n",
            " 15  Year                   700 non-null    int64 \n",
            "dtypes: int64(2), object(14)\n",
            "memory usage: 87.6+ KB\n",
            "None\n",
            "\n",
            "Missing Values:\n",
            " Segment                  0\n",
            "Country                  0\n",
            " Product                 0\n",
            " Discount Band           0\n",
            " Units Sold              0\n",
            " Manufacturing Price     0\n",
            " Sale Price              0\n",
            " Gross Sales             0\n",
            " Discounts               0\n",
            "  Sales                  0\n",
            " COGS                    0\n",
            " Profit                  0\n",
            "Date                     0\n",
            "Month Number             0\n",
            " Month Name              0\n",
            "Year                     0\n",
            "dtype: int64\n"
          ]
        }
      ]
    },
    {
      "cell_type": "markdown",
      "source": [
        "**Handle Missing Values**"
      ],
      "metadata": {
        "id": "pwIuJpY_fv0M"
      }
    },
    {
      "cell_type": "code",
      "source": [
        "print(\"Missing values after cleaning and conversion:\")\n",
        "print(df.isnull().sum())"
      ],
      "metadata": {
        "colab": {
          "base_uri": "https://localhost:8080/"
        },
        "id": "Wv4W3ZKGisqP",
        "outputId": "f6fcccec-8672-4b96-cc30-55ad93c959f1"
      },
      "execution_count": null,
      "outputs": [
        {
          "output_type": "stream",
          "name": "stdout",
          "text": [
            "Missing values after cleaning and conversion:\n",
            "Segment                0\n",
            "Country                0\n",
            "Product                0\n",
            "Discount Band          0\n",
            "Units Sold             0\n",
            "Manufacturing Price    0\n",
            "Sale Price             0\n",
            "Gross Sales            0\n",
            "Discounts              0\n",
            "Sales                  0\n",
            "COGS                   0\n",
            "Profit                 0\n",
            "Date                   0\n",
            "Month Number           0\n",
            "Month Name             0\n",
            "Year                   0\n",
            "dtype: int64\n"
          ]
        }
      ]
    },
    {
      "cell_type": "markdown",
      "source": [
        "**Encode Categorical Variables**"
      ],
      "metadata": {
        "id": "_sKxlmUwiySE"
      }
    },
    {
      "cell_type": "code",
      "metadata": {
        "colab": {
          "base_uri": "https://localhost:8080/"
        },
        "id": "77a4bbc7",
        "outputId": "973935ec-229b-4d2c-c501-fe4dea33afe2"
      },
      "source": [
        "# Identify categorical columns (excluding Date and Month Name)\n",
        "categorical_cols = df.select_dtypes(include='object').columns.tolist()\n",
        "# Check if 'Date' is in the list before removing\n",
        "if 'Date' in categorical_cols:\n",
        "    categorical_cols.remove('Date')\n",
        "# Check if 'Month Name' is in the list before removing\n",
        "if 'Month Name' in categorical_cols:\n",
        "    categorical_cols.remove('Month Name')\n",
        "\n",
        "# Apply one-hot encoding\n",
        "df_encoded = pd.get_dummies(df, columns=categorical_cols, drop_first=True)\n",
        "\n",
        "print(\"DataFrame after one-hot encoding:\")\n",
        "print(df_encoded.info())"
      ],
      "execution_count": null,
      "outputs": [
        {
          "output_type": "stream",
          "name": "stdout",
          "text": [
            "DataFrame after one-hot encoding:\n",
            "<class 'pandas.core.frame.DataFrame'>\n",
            "RangeIndex: 700 entries, 0 to 699\n",
            "Columns: 3271 entries, Date to  Month Name _ September \n",
            "dtypes: bool(3268), int64(2), object(1)\n",
            "memory usage: 2.2+ MB\n",
            "None\n"
          ]
        }
      ]
    },
    {
      "cell_type": "markdown",
      "source": [
        "**Define preprocessing pipeline**"
      ],
      "metadata": {
        "id": "pN9jcDw2f9FC"
      }
    },
    {
      "cell_type": "code",
      "source": [
        "# Identify numeric and categorical columns from the training data\n",
        "numeric_cols_train = X_train.select_dtypes(include=np.number).columns.tolist()\n",
        "categorical_cols_train = X_train.select_dtypes(include='object').columns.tolist()\n",
        "\n",
        "preprocessor = ColumnTransformer(transformers=[\n",
        "    ('num', StandardScaler(), numeric_cols_train),\n",
        "    ('cat', OneHotEncoder(handle_unknown='ignore'), categorical_cols_train)\n",
        "], remainder='passthrough') # Keep other columns (if any)"
      ],
      "metadata": {
        "id": "LiPsK5rMZWIc"
      },
      "execution_count": null,
      "outputs": []
    },
    {
      "cell_type": "markdown",
      "source": [
        "**Prepare Features and Target**"
      ],
      "metadata": {
        "id": "MkyDm1vMgH-9"
      }
    },
    {
      "cell_type": "code",
      "source": [
        "# Assuming 'Profit' is the target variable and is now numeric\n",
        "target_variable = 'Profit'\n",
        "\n",
        "# Features (all columns except the target, Date, Month Name, and Year)\n",
        "# Ensure column names are stripped of whitespace if not done already\n",
        "df.columns = df.columns.str.strip()\n",
        "features = df.drop(columns=[target_variable, 'Date', 'Month Name', 'Year']).columns.tolist()\n",
        "\n",
        "X = df[features]\n",
        "y = df[target_variable]\n",
        "\n",
        "print(\"Features (X) shape:\", X.shape)\n",
        "print(\"Target (y) shape:\", y.shape)"
      ],
      "metadata": {
        "colab": {
          "base_uri": "https://localhost:8080/"
        },
        "id": "WJf8OSM5eJmZ",
        "outputId": "ae871f44-e82a-4312-abb5-3b1371952f91"
      },
      "execution_count": null,
      "outputs": [
        {
          "output_type": "stream",
          "name": "stdout",
          "text": [
            "Features (X) shape: (700, 12)\n",
            "Target (y) shape: (700,)\n"
          ]
        }
      ]
    },
    {
      "cell_type": "markdown",
      "source": [
        "**Split the Dataset**"
      ],
      "metadata": {
        "id": "xx3D1iJqgT8s"
      }
    },
    {
      "cell_type": "code",
      "metadata": {
        "colab": {
          "base_uri": "https://localhost:8080/"
        },
        "id": "a8d68d86",
        "outputId": "7319ab4f-d7e9-4a4d-af4f-dbb0036b31b5"
      },
      "source": [
        "from sklearn.model_selection import train_test_split\n",
        "\n",
        "X_train, X_test, y_train, y_test = train_test_split(X, y, test_size=0.2, random_state=42)\n",
        "\n",
        "print(\"X_train shape:\", X_train.shape)\n",
        "print(\"X_test shape:\", X_test.shape)\n",
        "print(\"y_train shape:\", y_train.shape)\n",
        "print(\"y_test shape:\", y_test.shape)"
      ],
      "execution_count": null,
      "outputs": [
        {
          "output_type": "stream",
          "name": "stdout",
          "text": [
            "X_train shape: (560, 12)\n",
            "X_test shape: (140, 12)\n",
            "y_train shape: (560,)\n",
            "y_test shape: (140,)\n"
          ]
        }
      ]
    },
    {
      "cell_type": "markdown",
      "source": [
        " **Apply Transformer**"
      ],
      "metadata": {
        "id": "0BuKOhbxglEk"
      }
    },
    {
      "cell_type": "code",
      "source": [
        "# Define columns to clean and convert to numeric\n",
        "currency_cols = ['Units Sold', 'Manufacturing Price', 'Sale Price', 'Gross Sales', 'Discounts', 'Sales', 'COGS']\n",
        "\n",
        "# Function to clean and convert currency columns\n",
        "def clean_currency(col):\n",
        "    col = col.astype(str).str.replace('$', '', regex=False).str.replace(',', '', regex=False)\n",
        "    col = col.str.replace(\" - \", \"0\") # Replace \" - \" with 0 or np.nan if preferred\n",
        "    col = col.str.replace(r'\\((\\d+\\.?\\d*)\\)', r'-\\1', regex=True) # Handle parentheses for negative numbers\n",
        "    return pd.to_numeric(col, errors='coerce') # Use errors='coerce' to turn unparseable values into NaN\n",
        "\n",
        "# Apply cleaning and conversion to currency columns in both train and test sets\n",
        "for col in currency_cols:\n",
        "    X_train[col] = clean_currency(X_train[col])\n",
        "    X_test[col] = clean_currency(X_test[col])\n",
        "\n",
        "# Redefine numeric and categorical columns after cleaning\n",
        "numeric_cols_train = X_train.select_dtypes(include=np.number).columns.tolist()\n",
        "categorical_cols_train = X_train.select_dtypes(include='object').columns.tolist()\n",
        "\n",
        "# Update the preprocessor with correct column lists\n",
        "preprocessor = ColumnTransformer(transformers=[\n",
        "    ('num', StandardScaler(), numeric_cols_train),\n",
        "    ('cat', OneHotEncoder(handle_unknown='ignore'), categorical_cols_train)\n",
        "], remainder='passthrough')\n",
        "\n",
        "pipeline = Pipeline(steps=[('preprocessor', preprocessor)])\n",
        "X_train_transformed = pipeline.fit_transform(X_train)\n",
        "X_test_transformed = pipeline.transform(X_test)\n",
        "\n",
        "print(\"X_train_transformed shape:\", X_train_transformed.shape)\n",
        "print(\"X_test_transformed shape:\", X_test_transformed.shape)"
      ],
      "metadata": {
        "colab": {
          "base_uri": "https://localhost:8080/"
        },
        "id": "AoFvXyEeacUf",
        "outputId": "0a78209b-e193-4e0c-b5fb-9ef508aab0f4"
      },
      "execution_count": null,
      "outputs": [
        {
          "output_type": "stream",
          "name": "stdout",
          "text": [
            "X_train_transformed shape: (560, 28)\n",
            "X_test_transformed shape: (140, 28)\n"
          ]
        }
      ]
    },
    {
      "cell_type": "markdown",
      "source": [
        "** Print Final Shape**"
      ],
      "metadata": {
        "id": "2pAdE0nRj7Xg"
      }
    },
    {
      "cell_type": "code",
      "source": [
        "print(\"Training Features Shape:\", X_train_transformed.shape)\n",
        "print(\"Testing Features Shape:\", X_test_transformed.shape)\n"
      ],
      "metadata": {
        "colab": {
          "base_uri": "https://localhost:8080/"
        },
        "id": "c8-E4TcpbU_X",
        "outputId": "99d916d3-5b2f-45f3-a420-650d77b1fb35"
      },
      "execution_count": null,
      "outputs": [
        {
          "output_type": "stream",
          "name": "stdout",
          "text": [
            "Training Features Shape: (560, 28)\n",
            "Testing Features Shape: (140, 28)\n"
          ]
        }
      ]
    },
    {
      "cell_type": "code",
      "source": [
        "from google.colab import drive\n",
        "drive.mount('/content/drive')"
      ],
      "metadata": {
        "id": "F5qkVh1ckikP"
      },
      "execution_count": null,
      "outputs": []
    }
  ]
}